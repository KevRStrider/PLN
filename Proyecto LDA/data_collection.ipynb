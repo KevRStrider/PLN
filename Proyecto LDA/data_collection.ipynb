{
 "cells": [
  {
   "cell_type": "code",
   "execution_count": 29,
   "metadata": {},
   "outputs": [],
   "source": [
    "from bs4 import BeautifulSoup\n",
    "import pandas as pd\n",
    "import os\n",
    "import re"
   ]
  },
  {
   "cell_type": "code",
   "execution_count": 30,
   "metadata": {},
   "outputs": [
    {
     "data": {
      "text/plain": [
       "['2018-12-05.html',\n",
       " '2018-12-06.html',\n",
       " '2018-12-07(1).html',\n",
       " '2018-12-07(2).html',\n",
       " '2018-12-07.html',\n",
       " '2018-12-08.html',\n",
       " '2018-12-09.html',\n",
       " '2018-12-10.html',\n",
       " '2018-12-14.html',\n",
       " '2018-12-15.html']"
      ]
     },
     "execution_count": 30,
     "metadata": {},
     "output_type": "execute_result"
    }
   ],
   "source": [
    "files = os.listdir(\"./data\")\n",
    "files[:10]"
   ]
  },
  {
   "cell_type": "code",
   "execution_count": 31,
   "metadata": {},
   "outputs": [
    {
     "data": {
      "text/plain": [
       "['2018-12-05',\n",
       " '2018-12-06',\n",
       " '2018-12-07',\n",
       " '2018-12-07',\n",
       " '2018-12-07',\n",
       " '2018-12-08',\n",
       " '2018-12-09',\n",
       " '2018-12-10',\n",
       " '2018-12-14',\n",
       " '2018-12-15']"
      ]
     },
     "execution_count": 31,
     "metadata": {},
     "output_type": "execute_result"
    }
   ],
   "source": [
    "date_pattern = re.compile(r'\\d{4}-\\d{2}-\\d{2}')\n",
    "dates = [date_pattern.search(filename).group(0) for filename in files]\n",
    "dates[:10]"
   ]
  },
  {
   "cell_type": "code",
   "execution_count": 32,
   "metadata": {},
   "outputs": [
    {
     "name": "stdout",
     "output_type": "stream",
     "text": [
      "Appending 2322/2322\r"
     ]
    },
    {
     "data": {
      "text/plain": [
       "['Acompaña presidente Andrés Manuel López Obrador a Claudia Sheinbaum Pardo a rendir protesta como Jefa de Gobierno El presidente Andrés Manuel López Obrador acompañó a la doctora Claudia Sheinbaum Pardo en la ceremonia de la toma de protesta como Jefa de Gobierno de la Ciudad de México. “Me da mucho gusto porque Claudia Sheinbaum es una mujer con convicciones, es una mujer inteligente, es una mujer honesta y va a hacer un buen gobierno”, expresó durante la conferencia de prensa matutina. En el salón Tesorería de Palacio Nacional informó que unirán esfuerzos el gobierno federal y capitalino en materia de seguridad, por lo que todos los lunes la primera jefa de Gobierno estará presente en las reuniones del gabinete de seguridad que se realizan a las 6:00 horas. “Estamos trabajando en forma coordinada (…) los lunes porque ella tiene que atender todos los días los asuntos de la ciudad. La invitamos y va a asistir para ponernos de acuerdo sobre los temas de seguridad en la Ciudad de México, nuestra querida capital de la República”, precisó. ',\n",
       " 'Revela presidente Andrés Manuel López Obrador terna para ministro de SCJN El presidente Andrés Manuel López Obrador enviará este jueves al Senado de la República la terna de los candidatos a ministro de la Suprema Corte de Justicia de la Nación (SCJN) de conformidad con los artículos 95 y 96 de la Constitución Política de los Estados Unidos Mexicanos. “Son los propuestos, esa es la terna que se va a enviar el día de hoy (…) Todos cumplen legalmente. Les tengo confianza, por eso los estoy proponiendo; es gente honesta, son abogados de primer orden los tres y los senadores libremente van a decidir”, subrayó. En conferencia de prensa matutina dio a conocer la lista integrada por: Loretta Ortiz. Egresada de la Escuela Libre de Derecho. Cuenta con grados de maestría y doctorado; es académica de la Universidad Iberoamericana. Celia Maya García. Magistrada del Tribunal Superior de Justicia en Querétaro. Egresada de la Universidad autónoma de Querétaro y maestra en Derecho Procesal Penal. Inició como juez en el Poder Judicial en Querétaro en 1979. Juan Luis González Alcántara Carrranca. Doctor en Derecho por la Universidad Nacional Autónoma de México (UNAM), anteriormente se ha desempeñado como presidente del Tribunal Superior de Justicia del Distrito Federal. ',\n",
       " 'En Tuxpan, presidente de México anuncia plan de cuatro acciones para la reconstrucción de Nayarit Habrá reconstrucción o construcción de vivienda, no crédito; es un derecho del pueblo, para eso es el gobierno Familias recibirán apoyo económico para continuar limpieza de viviendas y desazolve Damnificados recibirán electrodomésticos equivalentes a 15 mil pesos Inicia programa de reconstrucción urbana En 2019 se diseñará plan preventivo contra desastres Están enojados porque ganaban 600 mil pesos mensuales; se acabó todo eso Tuxpan, Nay., 7 de diciembre de 2018.- Con la implementación inmediata de cuatro acciones, así como la inversión en los programas sociales que integran el Plan de Bienestar, los municipios de la zona norte de Nayarit afectados por el huracán “Willa” iniciarán su recuperación en un marco de respaldo institucional por parte del nuevo gobierno. Así lo indicó este día el presidente de México, Andrés Manuel López Obrador en Tuxpan, segundo punto de la gira por Nayarit para atender a las personas damnificadas. Acompañado de funcionarios federales y autoridades locales, el mandatario expresó: “Vamos a apoyar a todo el pueblo y, en esta ocasión, a los damnificados por las inundaciones del huracán y, también, a los damnificados por la pobreza.” Recordó que su visita al estado fue un compromiso adquirido desde su carácter de presidente electo, y señaló cuatro acciones principales que desarrollará el gobierno federal para atender de inmediato a la población. En primer término, “que, en dos meses, lo que es diciembre y enero, se le entregue por mes cinco mil pesos a cada familia para que terminen de limpiar sus casas y sus solares, sus patios”. Se trata del Programa de Empleo Temporal Inmediato que estará a cargo de la Secretaría del Bienestar y aplica para 3 mil familias del estado, con el fin de reforzar las labores de limpieza de viviendas, desazolve de drenajes y un apoyo adicional para adquirir herramientas e insumos de limpieza en las mismas comunidades. En segundo término, López Obrador explicó: “Se van a entregar los enseres domésticos a las familias que los perdieron: la cama, la plancha, el refrigerador, la estufa. Eso se va a empezar ya a entregar, a más tardar en una semana.” Este apoyo consiste en otorgar aproximadamente 15 mil pesos en especie a cada una de las 5 mil familias afectadas. La tercera línea de acción se refiere, de acuerdo con el jefe el Ejecutivo, en que “se va a rehabilitar, va a haber un programa de mejoramiento y de construcción de vivienda aquí, en Tuxpan. Reconstrucción o construcción de vivienda, no crédito, como aquí lo mencionó Román. Apoyo, porque es un derecho del pueblo, para eso es el gobierno.” La Secretaría Desarrollo Agrario, Territorial y Urbano (Sedatu) estará a cargo de la cuarta acción: “Va a empezar un programa para mejorar la infraestructura, lo que tiene que ver con el servicio de agua, drenaje, mejorar las calles, que se regularice el sistema eléctrico. Vamos a llevar a cabo este programa no sólo en Tuxpan, sino en los ocho municipios afectados de Nayarit. Ese es el plan inmediato”, informó el presidente. De manera simultánea, se hará efectivo el seguro de desastres para cubrir todas las pérdidas en el sector ganadero, de acuerdo con la instrucción del presidente al secretario de Agricultura y Desarrollo Rural, Víctor Manuel Villalobos Arámbula. Los apoyos mencionados se integran al Plan de Bienestar, un esquema de programas sociales pensados por la administración entrante para apoyar de manera prioritaria a las personas vulneradas, como el aumento al doble de la beca para adultos mayores, apoyo mensual para personas con discapacidad en situación de pobreza; becas y empleo para jóvenes, así como diversos apoyos para productores, pequeños propietarios y ejidatarios, como precios de garantía para granos básicos, recursos económicos semestrales para campesinos y créditos a la palabra para ganaderos. En el corto plazo, la reconstrucción de Nayarit incluye una fase preventiva: “Tenemos que atender todo lo relacionado con el control de las aguas. Hay que prevenir, si no, va a volver a suceder lo mismo. Hay que hacer ya un plan para el desarrollo de toda esta región, y un programa integral que tenga que ver con lo hidráulico, que tenga que ver con la producción en el campo, que tenga que ver con el bienestar”, indicó el presidente. Añadió que el próximo 25 de enero visitará nuevamente la entidad: “El 25 estoy aquí, con ustedes, para entregar personalmente esos apoyos. Se van a quedar aquí los encargados, entregando las tarjetas. Yo nada más voy a decir: ya cumplimos y vamos a seguir cumpliendo”. Recordó que uno de los fundamentos del cambio de régimen que vive el país se refiere a la erradicación de la corrupción: “Se va a acabar la robadera. Y también vamos a tener presupuesto. Hoy me lo decían en Acaponeta, muy claramente un señor: no le entregue el dinero al gobierno. Entrégueselo al pueblo. Así va a ser. No puede haber gobierno rico con pueblo pobre, que eso es lo que ha venido pasando. Los de arriba se dan la gran vida. Ahora están enojados porque ganaban 600 mil pesos mensuales. Y se acabó todo eso. “No me voy a divorciar del pueblo. No va a haber divorcio entre pueblo y gobierno. Va a ser gobierno del pueblo, para el pueblo y con el pueblo”, concluyó. Habrá reconstrucción o construcción de vivienda, no crédito; es un derecho del pueblo, para eso es el gobierno Familias recibirán apoyo económico para continuar limpieza de viviendas y desazolve Damnificados recibirán electrodomésticos equivalentes a 15 mil pesos Inicia programa de reconstrucción urbana En 2019 se diseñará plan preventivo contra desastres Están enojados porque ganaban 600 mil pesos mensuales; se acabó todo eso Tuxpan, Nay., 7 de diciembre de 2018.- Con la implementación inmediata de cuatro acciones, así como la inversión en los programas sociales que integran el Plan de Bienestar, los municipios de la zona norte de Nayarit afectados por el huracán “Willa” iniciarán su recuperación en un marco de respaldo institucional por parte del nuevo gobierno. Así lo indicó este día el presidente de México, Andrés Manuel López Obrador en Tuxpan, segundo punto de la gira por Nayarit para atender a las personas damnificadas. Acompañado de funcionarios federales y autoridades locales, el mandatario expresó: “Vamos a apoyar a todo el pueblo y, en esta ocasión, a los damnificados por las inundaciones del huracán y, también, a los damnificados por la pobreza.” Recordó que su visita al estado fue un compromiso adquirido desde su carácter de presidente electo, y señaló cuatro acciones principales que desarrollará el gobierno federal para atender de inmediato a la población. En primer término, “que, en dos meses, lo que es diciembre y enero, se le entregue por mes cinco mil pesos a cada familia para que terminen de limpiar sus casas y sus solares, sus patios”. Se trata del Programa de Empleo Temporal Inmediato que estará a cargo de la Secretaría del Bienestar y aplica para 3 mil familias del estado, con el fin de reforzar las labores de limpieza de viviendas, desazolve de drenajes y un apoyo adicional para adquirir herramientas e insumos de limpieza en las mismas comunidades. En segundo término, López Obrador explicó: “Se van a entregar los enseres domésticos a las familias que los perdieron: la cama, la plancha, el refrigerador, la estufa. Eso se va a empezar ya a entregar, a más tardar en una semana.” Este apoyo consiste en otorgar aproximadamente 15 mil pesos en especie a cada una de las 5 mil familias afectadas. La tercera línea de acción se refiere, de acuerdo con el jefe el Ejecutivo, en que “se va a rehabilitar, va a haber un programa de mejoramiento y de construcción de vivienda aquí, en Tuxpan. Reconstrucción o construcción de vivienda, no crédito, como aquí lo mencionó Román. Apoyo, porque es un derecho del pueblo, para eso es el gobierno.” La Secretaría Desarrollo Agrario, Territorial y Urbano (Sedatu) estará a cargo de la cuarta acción: “Va a empezar un programa para mejorar la infraestructura, lo que tiene que ver con el servicio de agua, drenaje, mejorar las calles, que se regularice el sistema eléctrico. Vamos a llevar a cabo este programa no sólo en Tuxpan, sino en los ocho municipios afectados de Nayarit. Ese es el plan inmediato”, informó el presidente. De manera simultánea, se hará efectivo el seguro de desastres para cubrir todas las pérdidas en el sector ganadero, de acuerdo con la instrucción del presidente al secretario de Agricultura y Desarrollo Rural, Víctor Manuel Villalobos Arámbula. Los apoyos mencionados se integran al Plan de Bienestar, un esquema de programas sociales pensados por la administración entrante para apoyar de manera prioritaria a las personas vulneradas, como el aumento al doble de la beca para adultos mayores, apoyo mensual para personas con discapacidad en situación de pobreza; becas y empleo para jóvenes, así como diversos apoyos para productores, pequeños propietarios y ejidatarios, como precios de garantía para granos básicos, recursos económicos semestrales para campesinos y créditos a la palabra para ganaderos. En el corto plazo, la reconstrucción de Nayarit incluye una fase preventiva: “Tenemos que atender todo lo relacionado con el control de las aguas. Hay que prevenir, si no, va a volver a suceder lo mismo. Hay que hacer ya un plan para el desarrollo de toda esta región, y un programa integral que tenga que ver con lo hidráulico, que tenga que ver con la producción en el campo, que tenga que ver con el bienestar”, indicó el presidente. Añadió que el próximo 25 de enero visitará nuevamente la entidad: “El 25 estoy aquí, con ustedes, para entregar personalmente esos apoyos. Se van a quedar aquí los encargados, entregando las tarjetas. Yo nada más voy a decir: ya cumplimos y vamos a seguir cumpliendo”. Recordó que uno de los fundamentos del cambio de régimen que vive el país se refiere a la erradicación de la corrupción: “Se va a acabar la robadera. Y también vamos a tener presupuesto. Hoy me lo decían en Acaponeta, muy claramente un señor: no le entregue el dinero al gobierno. Entrégueselo al pueblo. Así va a ser. No puede haber gobierno rico con pueblo pobre, que eso es lo que ha venido pasando. Los de arriba se dan la gran vida. Ahora están enojados porque ganaban 600 mil pesos mensuales. Y se acabó todo eso. “No me voy a divorciar del pueblo. No va a haber divorcio entre pueblo y gobierno. Va a ser gobierno del pueblo, para el pueblo y con el pueblo”, concluyó. ',\n",
       " 'Destaca presidente avances en sistema de información de incidencia delictiva y coordinaciones territoriales para atender la inseguridad El presidente de México, Andrés Manuel López Obrador, detalló los avances de las reuniones del Gabinete de Seguridad, entre los que destaca la conformación de un sistema de información de incidencia delictiva y la consolidación de coordinaciones territoriales con miras a establecer 266 en todo el país dedicadas a atender de manera articulada la inseguridad y la violencia. Anunció que con el objetivo de delinear su operación se reunirán en este mes los responsables de la estrategia de seguridad nacional, la cual explicó, está orientada en dar atención puntual y permanente en territorio nacional. \"Lo básico ahora va a ser el que se atienda la seguridad de los ciudadanos desde el territorio, todos los días, con Mando Único. Porque en esa Coordinación participan de todas las dependencias, pero hay un mando operativo en cada Coordinación. Y se tiene un reporte diario de lo que está sucediendo y diariamente se actúa\", explicó. En conferencia de prensa matutina el presidente destacó que el robo de combustible se tipificará como delito grave sin derecho a fianza; \"que se tenga conocimiento de que se van a aplicar leyes más severas para estos delitos. Es lo mismo que el delito de corrupción, que no va a tener derecho a fianza. Son los cambios\". El jefe del Ejecutivo exhortó a hacer conciencia de las consecuencias que traerán las modificaciones al sistema de justicia en cuanto a las actividades delictivas antes mencionadas y a optar por apoyarse en las oportunidades que impulsará su gobierno a partir de políticas públicas y programas sociales como Jóvenes Construyendo el Futuro. Adelantó que esta tarde cumplirá la promesa de visitar a la población afectada por el huracán Willa en Nayarit y que el fin de semana realizará su primera gira de trabajo como presidente de México en Tabasco y Chiapas. ',\n",
       " 'En Acaponeta, presidente López Obrador anuncia inversión inmediata de 500 mdp para damnificados del norte de Nayarit Si no alcanza, vamos a buscar que haya una ampliación Se autoriza recurso federal anticipado para el pago a trabajadores del gobierno estatal Gobierno federal inicia censo viviendas afectadas Comienza Programa de Empleo Temporal Inmediato para 3 mil familias Entrega de enseres domésticos cubrirá 14 mil pesos por familia en especie Sedatu inicia programa de reconstrucción de viviendas e infraestructura urbana Se hará efectivo seguro de desastres para cubrir todas las pérdidas en el sector ganadero Presidente regresará el 25 de enero para verificar cumplimiento de compromisos Acaponeta, Nay., 7 de diciembre de 2018.- Cumpliendo el compromiso de llevar acciones de gobierno inmediatas a las personas afectadas por el paso del huracán “Willa”, el presidente Andrés Manuel López Obrador inició gira por el norte del estado en el sexto día de haber asumido el cargo. Al encabezar un acto público en el Lienzo Charro “Óscar Cosío”, el mandatarioexpresó: “Quiero decirles en qué va a consistir el apoyo; como aquí lo mencionóun compañero, ya basta de palabrería, es necesaria la acción, que ustedes sepanmuy puntualmente en qué vamos a apoyar”. Por ello, enumeró cinco acciones inmediatas que el gobierno federal arrancará apartir de mañana. En primer término, anunció la autorización de un adelanto delas participaciones federales a Nayarit: “Ante la situación tan crítica en que está Nayarit, sobre todo sus finanzas públicas,que es un estado que quedó inundado y que no tiene recursos ni para pagar lanómina de sus trabajadores de este fin de año, he hecho el compromiso con elgobernador de que vamos a adelantar participaciones federales para que se puedaterminar el año y pagar a los trabajadores, ya recibió esa instrucción elsecretario de Hacienda, Carlos Urzúa.” En segundo término, el presidente habló del Programa de Empleo Temporal para tres mil familias nayaritas: “Dos meses van a tener un apoyo económico de alrededor de 5 mil pesos por mes, todos los damnificados, por eso se está haciendo el censo, para que sean los que verdaderamente lo necesitan, que se acabe ya el abuso. “Se va a entregar este apoyo para que se pueda tener un ingreso mientras se terminan de limpiar las casas, los patios, que se hagan las labores que se necesiten en cada comunidad, en cada pueblo afectado por el huracán”. Asimismo, habrá una entrega de enseres domésticos a 5 mil familias damnificadas por un monto de 14 mil pesos que contemplan la compra de camas, colchones, estufas, licuadoras, refrigeradores y artículos similares. El mandatario explicó a los presentes que una de las acciones más importantes que recibirán las personas afectadas estará a cargo de la Secretaría de Desarrollo Agrario, Territorial y Urbano (Sedatu): “Habrá mejoramiento y construcción de vivienda, mejorar las calles… Se va a mejorar la infraestructura urbana, porque se afectaron las líneas de agua, de drenaje, sobre todo, se destruyeron las calles, los caminos. “Estoy pidiéndole al secretario de Desarrollo Urbano, a Román Meyer, que se haga cargo para que se empiece la reconstrucción de los pueblos, utilizando mano de obra de las mismas comunidades. No con empresas contratistas, sino pagándole salarios, jornales justos, a la gente de las mismas comunidades, para que mejoren sus calles, para que haya también trabajo y se logre un triple propósito: que se haga la obra, que se dé trabajo y que el dinero quede en las mismas comunidades, en los mismos municipios.” “Se autoriza para esta acción, en promedio, 60 millones por municipio, de los ocho municipios afectados. Cada uno, 60 millones. Si no alcanza, vamos a buscar que haya una ampliación, pero empezamos con 60 millones por municipio, para mejorar las calles y los servicios públicos.” Por último, indicó que regresará al estado el próximo mes, donde visitará el municipio de Tecuala: “Voy a regresar a Nayarit. Voy a estar de nuevo el día 25 de enero para ver si ya se terminó y ya se inició con este programa. Yo mismo lo voy a supervisar, junto con ustedes. Vamos a defender a todos. Vamos a escuchar a todos. Vamos a respetar a todos, pero le vamos a dar preferencia a los pobres”, concluyó. Durante el acto público, el presidente estuvo acompañado por el gobernador Antonio Echevarría García; María Luisa Albores González, secretaria del Bienestar; Lorenzo Meyer Falcón, titular de Sedatu; Víctor Manuel Villalobos Arámbula, secretario de Agricultura y Desarrollo Rural; David Ricardo Cervantes Peredo, subsecretario de Reordenamiento Territorial de Sedatu. Además, David Eduardo León Romero, coordinador nacional de Protección Civil; Ana Gabriela González González, directora general de Coordinación Territorial de Sedatu; Manuel Peraza Segovia, delegado estatal de Programas de Desarrollo Integral; José Humberto Arellano Núñez, presidente municipal de Acaponeta; Gabriela Yajaira Guzmán González, presidenta municipal de Huajicori; Adán Frausto Arellano, presidente municipal de El Nayar; y Herberto López Rojas, presidente municipal de Tecuala. ',\n",
       " 'Beneficiará a consumidores e incentivará inversión en CFE reducción de sueldos onerosos: presidente López Obrador Terminar con la corrupción y reducir los sueldos de los altos funcionarios, permitirá convertir dichos gastos en presupuesto suficiente para invertir en la Comisión Federal de Electricidad, lo que a largo plazo beneficiará a los consumidores, aseguró el presidente Andrés Manuel López Obrador. Al encabezar la presentación del Programa Nacional de Electricidad en Tecpatán, Chiapas, indicó que además de esas medidas, el Gobierno de México apostará por la modernización de más de 60 plantas hidroeléctricas del país, entre las que destacan las de Angostura, Chicoasén, Malpaso y Peñitas. “Tenemos que pensar en la modernización de las hidroeléctricas como una opción, como una alternativa. Explorar la posibilidad de modernizar la generación de energía, el sistema de turbinas para utilizar el agua, utilizar toda esta infraestructura”, sostuvo el jefe del Ejecutivo. Explicó que actualmente el escenario para la construcción de nuevas plantas hidroeléctricas es complejo, por lo que es necesario aprovechar y potenciar la infraestructura existente. “Ya no se pueden construir hidroeléctricas como éstas. Es muy complejo (…) Por eso, si ya tenemos esto gracias a lo que hicieron los gobernantes de la época postrevolucionaria, si ya se tiene toda esta infraestructura, vamos a potenciarla. Vamos a modernizar estas plantas”, subrayó. Destacó que el titular de la CFE, Manuel Bartlett, tiene instrucciones para que se frene el desmantelamiento de esta empresa y evitar el cierre de plantas de generación eléctrica. Asimismo, se pronunció a favor del libre mercado bajo la premisa de que se actúe con legalidad y piso parejo en materia de competencia. “Yo estoy seguro de que vamos a lograr el propósito de fortalecer a esta gran empresa, la Comisión Federal de Electricidad, por el bien del pueblo, por el bien de los trabajadores, por el bien de México”, afirmó. El presidente enfatizó en la necesidad de fomentar la producción de energía limpia “porque la energía que se produce con el agua es la más limpia de todas, la que me menos contamina y la más barata”. ',\n",
       " 'Cambiará política petrolera del país, afirma presidente en presentación del Plan Nacional de Refinación Se invertirán en Pemex 75 mil mdp más que en 2018 Habrá inversión pública sin endeudamiento, tampoco usaremos el fondo de contingencia petrolera Nos va a alcanzar, no es que haya faltado dinero, es que ha sobrado corrupción Hago un llamado a los empresarios para que estemos a la altura de las circunstancias; confiamos en el empresariado mexicano Es absurdo comprar gasolinas, como si vendiéramos naranja y compráramos jugo de naranja Ya se tiene el terreno y en marzo se licita refinería Dos Bocas Las condiciones de crisis no permitirán desarrollar la industria petroquímica No había lugar mejor que Dos Bocas para la nueva refinería Voto libre y secreto en los sindicatos, habrá democracia sindical Paraíso, Tab., 9 de diciembre de 2018.- Contrario a lo que se prometió, la Reforma Energética produjo una grave tendencia a la baja en la producción de petróleo que se mantiene hasta nuestros días, por lo que el Gobierno de México intervendrá de manera inmediata para lograr la autosuficiencia y alcanzar la reducción en los precios de los combustibles. Así lo anunció el presidente Andrés Manuel López Obrador durante la presentación del Plan Nacional de Refinación en el puerto de Dos Bocas, donde señaló que, “como pocas veces, estamos enfrentando una situación tan compleja, tan difícil en la industria petrolera”, ya que actualmente se produce menos de 1 millón 800 mil barriles de petróleo diarios, cantidad que nos ha llevado a la importación: “Eso nunca se había visto en la historia del petróleo en nuestro país”. Recordó que la Reforma Energética garantizaba que actualmente estaríamos extrayendo 3 millones de barriles diarios. La realidad ha quedado muy lejos de esa cifra, ya que producimos mucho menos que eso y “con tendencia a la baja de manera muy preocupante, porque se dejó de invertir en la explotación de petróleo, se dejó de perforar”. Por ello, indicó que “necesitamos con urgencia enfrentar, frenar esta crisis” de la cual no se habla, porque quienes apoyaron la Reforma Energética “se dedicaron a aplaudir, porque iba a llegar la dolariza y nos iba a salvar la apertura del sector energético”. El mandatario señaló que, “afortunadamente se decidió un cambio en el país, nos salvó el pueblo y va a cambiar la política petrolera porque no ha dado resultados”. Se invertirán en Pemex 75 mil mdp más que en 2018 Informó que desde el primer día de la nueva administración federal arrancaron los trabajos de perforación de pozos, gracias a la respuesta favorable que se ha recibido de trabajadores y empresarios. El mandatario señaló que también se trabaja en “contratos integrados que faciliten la extracción”, y anunció: “La inversión pública adicional no va a provenir de deuda, ni siquiera vamos a usar el fondo de contingencia petrolera. Vamos a financiar toda la actividad petrolera con el plan de austeridad republicana. Vamos a aumentar en 75 mil millones de pesos la inversión en Pemex, de lo autorizado en 2018 a lo que va a ser el presupuesto de 2019. 75 mil millones de pesos adicionales.” Expresó que el uso indebido de recursos públicos es la principal causa del declive en la industria petrolera nacional: “No es que haya faltado dinero, es que ha sobrado corrupción”. Como ejemplo, expuso que se invirtieron 8 mil millones de dólares en la reconfiguración de tres refinerías (Minatitlán, Cadereyta y Madero), que es el monto equivalente de la nueva refinería en Dos Bocas. A pesar de ello, fueron las tres refinerías que no tuvieron inversión (Salina Cruz, Tula y Salamanca), las que reportaron mayor producción: “Es increíble, ¿qué pasó?, ¿dónde quedó el dinero?, ¿cómo entregaron esos contratos, si no hubo resultados? Venían empresas a hacer su agosto al país”, dijo el presidente. Es así como el jefe del Ejecutivo se dirigió a los integrantes de la iniciativa privada: “Hago un llamado a los empresarios mexicanos, para que estemos a la altura de las circunstancias, porque vamos a confiar en el empresariado mexicano”. Añadió que fue difundida la falsa idea de que lo más adecuado era comprar la gasolina en el extranjero, “eso lo machacaron, cómo respondemos a ese absurdo de que nos dedicamos a vender petróleo crudo y a comprar gasolinas, como si vendiéramos naranja y compráramos jugo de naranja”, toda vez que México adquiere en el extranjero el 75 por ciento de las gasolinas que consume, contrario a países que le han apostado a la autosuficiencia en un marco de equilibrio, como China, Estados Unidos, Colombia, Japón o España, por citar algunos. El Plan Nacional de Refinación inició su implementación en los primeros días del nuevo gobierno federal. A decir del presidente: “Apenas una semana del inicio del gobierno y ya tenemos el terreno, las 600 hectáreas que se requieren para la construcción de la refinería. Ya se tienen los proyectos, ya vamos a empezar a licitar, a más tardar en marzo se licita la refinería y les informo también, porque todo esto se tiene que saber, que ya estamos definiendo un mecanismo de trabajo ejecutivo que no tiene que ver con la burocracia que impide que se hagan las cosas.” Detalló que durante su gestión serán atendidas las tres demandas principales en materia energética: extracción de petróleo, que estará a cargo de Petróleos Mexicanos (Pemex); rehabilitación y construcción de refinerías, cuya responsable será la secretaría de Energía (Sener), y el rescate de la industria eléctrica, que encabezará la Comisión Federal de Electricidad (CFE). “Me da tristeza decir que no vamos a poder desarrollar lo que quisiéramos, la petroquímica, porque no tenemos condiciones ante la crisis”. A partir de ese esquema, el mandatario exhortó a la Comisión de Energía de la Cámara de Diputados a que “nos apoyen, porque es facultad exclusiva de la Cámara de Diputados aprobar el presupuesto”, que se tiene previsto enviar el próximo 15 de diciembre. El presidente López Obrador explicó las razones por las que se eligió el puerto de Dos Bocas para construir la nueva refinería: “Aclaro, porque hay mucha desinformación. Por qué se decide hacer la refinería aquí, en Dos Bocas, porque esta es la terminal más importante del país, aquí llegan alrededor de 1 millón de barriles diarios, todo lo que se produce en la sonda de Campeche, casi todo lo que se produce en el litoral de Tabasco, lo que se produce en tierra llega a esta terminal. “Por qué se va a hacer aquí la refinería aquí, entre otras cosas, porque ese petróleo crudo ya no se va a ir al extranjero, se va a quedar aquí y se va a convertir en combustible. Es el mejor sitio, entonces no es un asunto político, es un asunto técnico. No había un lugar mejor que Dos Bocas, Paraíso, Tabasco, para producir esta nueva refinería.” Finalmente, se dirigió a las y los trabajadores del sector, a quienes reiteró el compromiso del Gobierno de México para hacer valer la democracia: “Se van a terminar los problemas en el sindicato, porque va a haber democracia sindical. Ya no va a haber sindicatos apoyados, respaldados por el gobierno. Ahora, los líderes van a ser nombrados en elecciones democráticas por los trabajadores. Voto libre y secreto. Algunos que todavía no le entienden a esto, que no se adaptan a los nuevos tiempos, me dicen: y cuál va a ser la línea. La línea es que no hay línea. Van a ser los trabajadores los que van a decidir. Va a haber democracia sindical”, finalizó. El presidente de México estuvo acompañado por los siguientes gobernadores: Arturo Núñez Jiménez (Tabasco); Diego Sinhué Rodríguez Vallejo (Guanajuato); Omar Fayad Meneses (Hidalgo); Cuitláhuac García Jiménez (Veracruz); Alejandro Ismael Murat Hinojosa (Oaxaca); Alejandro Moreno Cárdenas (Campeche) y Jaime Heliodoro Rodríguez Calderón (Nuevo León). Asimismo, asistieron: Adán Augusto López Hernández, gobernador electo de Tabasco; Antonio Alejandro Almeida, presidente municipal de Paraíso; Rocío Nahle García, secretaria de Energía del gobierno federal; Octavio Romero Oropeza, titular de Pemex; Manuel Barttlet Díaz, director de la CFE; y Josefa González-Blanco Ortiz-Mena, titular de Semarnat, entre otras autoridades. Rehabilitación de las seis refinerías existentes. Estrategia de mantenimiento exhaustivo en las plantas de proceso para atender los equipos y las instalaciones que han sido descuidadas. Aumentar la producción de gasolinas y combustibles. El primer año se rehabilitarán las siguientes refinerías: Minatitlán, Salamanca, Tula, Cadareyta, Madero, Salina Cruz. En conjunto, las refinerías producirán 1 millón 540 mil barriles de petróleo diariamente, lo que corresponde a sus capacidades de diseño. En consecuencia, se reducirá significativamente la dependencia en importaciones. La Refinería “Dos Bocas” Propiciará una importante derrama económica. Impulsará la economía del sureste del país. Contará con 17 plantas de proceso, 93 tanques y esferas, y un sistema de generación de energía autosuficiente. En el pico de su construcción se crearán 23 mil empleos directos y 112 mil indirectos para un total de 135 mil. Será autosustentable, con eficiencia energética y se apegará a los estándares internacionales en la preservación del medio ambiente. Será un proyecto integral que asegurará a los mexicanos el acceso a la energía y el desarrollo equilibrado. Se proyecta que procesará 240 mil barriles de crudo al día para obtener 170 mil barriles de gasolina y 120 mil de diésel de ultra bajo azufre diarios. Producirá el equivalente a casi 30 por ciento de las gasolinas que actualmente importamos. Permitirá la cobertura de envío a la zona centro-occidente del país, la península de Yucatán y el Pacífico Sur. Contará con tecnología de punta en todas sus plantas para procesar con eficiencia los crudos de la región y lograr altos rendimientos de refinados, lo cual mejorará su disponibilidad y precio. Sus cuatro ejes son: Seguridad energética. Acceso equitativo de la población al uso de la energía. Responsabilidad ambiental. Precio justo de los combustibles en el mercado. Ventajas de localizar la refinería en Dos Bocas: Disponibilidad de crudo. Arribo de ductos marinos. Infraestructura para el almacenamiento y transporte de productos. Instalaciones de cabotaje para la salida de productos. ',\n",
       " 'Prepara Gobierno de México recepción de peregrinos y paisanos por temporada decembrina El presidente Andrés Manuel López Obrador informó que los gobiernos Federal y de la Ciudad de México trabajan de manera coordinada en un plan para atender a los peregrinos en su arribo a la capital el próximo 12 de diciembre. Además, el Ejecutivo define las líneas de acción que evitarán a los paisanos provenientes de Estados Unidos ser extorsionados en su llegada al país durante la temporada decembrina. En los operativos, detalló, participarán la Policía Federal, la Secretaría de Gobernación y las aduanas. El presidente adelantó que esta semana se presentará a la Cámara de Diputados el Presupuesto de Egresos de la Federación 2019. En materia de seguridad, destacó que, sin actuar de manera triunfalista, se ha registrado una disminución de delitos denunciados. “Estamos instalando las coordinaciones en el país, reagrupando las fuerzas, definiendo los mandos conciliando con los gobernadores para que se vayan uniendo a esta estrategia”, expresó el mandatario. Aseguró que el Gobierno de México actuará en protección a las mujeres para hacer frente a los feminicidios, problemática que ya se trata en las reuniones de seguridad y en las cuales se ha determinado hacer exhortos en todas las entidades federativas para atenderlos. ',\n",
       " 'Anuncia presidente Plan de Salud Integral En dos años México tendrá un nuevo sistema de salud pública capaz de brindar atención y medicamentos gratuitos a toda la población, afirmó el presidente Andrés Manuel López Obrador. Al anunciar el Plan de Salud Integral explicó que esta estrategia contempla federalizar los servicios de salud; en una primera etapa, se invertirán 25 mil millones de pesos en 8 entidades del país. En los siguientes 6 meses se incorporarán 8 estados más, de manera que en el 2019 se verán beneficiadas 16 entidades. En el siguiente año, 2020, se replicará esta estrategia en otros 16 estados con la finalidad de que en 2021 esté constituido un nuevo sistema de salud pública. “Es para todo México el mejorar el sistema de salud pública, vamos a hacerlo paulatinamente para hacerlo bien, que realmente haya un cambio por la situación tan lamentable en que se encuentra el sistema de salud pública en la actualidad”, puntualizó el titular del Ejecutivo.Informó que este día se reunirá con gobernadores de 8 entidades federativas en Mérida, Yucatán, para firmar el convenio de mejora al sistema de salud pública. “Ahora lo que queremos es integrar los sistemas de salud y comenzar dando atención especial a la población que no tiene seguridad social, a los que no son derechohabientes”, subrayó. El nuevo plan integral de seguridad, explicó, tiene como objetivo garantizar en la Secretaría de Salud, ISSSTE e IMSS el derecho a la atención de primer nivel, hospitalaria y en emergencias médicas, así como traslados, independientemente si las personas son o no derechohabientes. “Todo esto se está haciendo en acuerdo con los gobiernos estatales, estoy llamando a la participación, sé que vamos a contar con ellos; a los médicos, a enfermeras, a todo el personal del sector salud porque ellos han estado cumpliendo con su responsabilidad”, expresó. Comentó que los trabajadores eventuales del sistema de salud serán regularizados paulatinamente conforme los recursos así lo permitan a partir de la erradicación de la corrupción “Hay quienes trabajan por honorarios, por contrato desde hace 20 años. Nosotros vamos a regularizar la situación de estos trabajadores poco a poco de acuerdo a la disponibilidad de recursos pero la idea es mejorar el sistema de salud”, abundó. Resaltó que en la Segunda Consulta Nacional Ciudadana, la preocupación de los mexicanos acerca del sistema de salud superó en aceptación al programa de pensiones y que la población más pobre no cuenta con afiliación al sistema de seguridad social, por lo que urge la intervención inmediata en este rubro. “La gente desea, está demandando que se mejoren los servicios de salud (…) Tenemos que resolver esto, no podemos hablar de derechos humanos si no garantizamos el derecho a la salud”, afirmó. ',\n",
       " 'Inversión y producción, ejes del Plan Nacional de Hidrocarburos Cd. del Carmen, Campeche. La meta del Gobierno de México en materia de hidrocarburos es alcanzar una producción de más de dos millones 400 mil barriles de petróleo diarios para cuando finalice el sexenio, afirmó el presidente Andrés Manuel López Obrador. Al presentar el Plan Nacional para la Producción de Hidrocarburos en Ciudad del Carmen Campeche, el titular del Ejecutivo aseguró que se trata de una estrategia realista que incluye la participación y experiencia de trabajadores petroleros en activo, de planta, transitorios y jubilados de Pemex. “Es un momento decisivo en la historia de nuestro país y en la historia de la explotación petrolera. No exagero. Es algo parecido a lo que tuvo que hacerse en 1938. Es un nuevo rescate de Petróleos Mexicanos”, subrayó.Sostuvo que también las empresas forman parte fundamental del desarrollo de la industria petrolera en áreas como la exploración, perforación, refinación y transformación del petróleo. “Vamos a invertir donde sabemos que hay petróleo y que nos cuesta menos extraerlo. Por razones inexplicables, a veces la inversión pública se orienta a donde no hay petróleo o es escasa la rentabilidad donde no hay negocio para la nación, aclaro. Ahora vamos a invertir en exploración, en perforación de pozos, en tierra y en aguas someras de Veracruz, de Tabasco, de Campeche”, abundó el presidente. Remarcó que de este plan depende la posibilidad de producir gasolinas, además de reparar, mejorar y modernizar seis refinerías, así como construir la nueva Refinería de Dos Bocas. “Por eso, qué bien que tenemos esta meta de producir, a finales del sexenio, dos millones 400 mil barriles diarios. Con eso es suficiente, manteniendo las reservas, porque el petróleo, además de ser un recurso no renovable, pertenece también a las generaciones futuras y no lo podemos nosotros explotar de manera irracional”, expresó. El presidente se pronunció a favor de recuperar el Complejo Cantarell a partir de labores de investigación e indicó que aunque “puede llevarnos tiempo, puede ser que tardemos tres años, seis años, pero le dejamos a los nuevos gobiernos una posibilidad de explotación a futuro”. “Estamos hablando del campo más productivo posiblemente del mundo y, al mismo tiempo, el campo más mal explotado del mundo. Por eso, es una tarea para técnicos, para especialistas, para el Instituto Mexicano del Petróleo y que podamos seguir beneficiándonos con Cantarell”, agregó. ']"
      ]
     },
     "execution_count": 32,
     "metadata": {},
     "output_type": "execute_result"
    }
   ],
   "source": [
    "reports = []\n",
    "for i, file in enumerate(files):\n",
    "    with open(f'data/{file}', 'r', encoding='utf-8') as file:\n",
    "        html = file.read()\n",
    "\n",
    "    soup = BeautifulSoup(html)\n",
    "    main_content = soup.find('main', {'id': 'content'})\n",
    "\n",
    "    # Extract any list content that is not related to the report\n",
    "    unwanted_list_elements = main_content.find_all(['span', 'a', 'i'])\n",
    "    for element in unwanted_list_elements:\n",
    "        element.extract()\n",
    "\n",
    "    content = main_content.find_all(['p', 'h1', 'li'])\n",
    "\n",
    "\n",
    "    text = \" \".join(element.get_text() for element in content if element.get_text())\n",
    "\n",
    "    # Clean the report text\n",
    "    text = text.replace('\\xa0', ' ')\n",
    "    text = text.replace('\\n', ' ')\n",
    "    text = re.sub(r'\\s+', ' ', text)\n",
    "\n",
    "    reports.append(text)\n",
    "    print(f\"Appending {i+1}/{len(files)}\", end='\\r')\n",
    "reports[:10]"
   ]
  },
  {
   "cell_type": "code",
   "execution_count": 33,
   "metadata": {},
   "outputs": [
    {
     "data": {
      "text/html": [
       "<div>\n",
       "<style scoped>\n",
       "    .dataframe tbody tr th:only-of-type {\n",
       "        vertical-align: middle;\n",
       "    }\n",
       "\n",
       "    .dataframe tbody tr th {\n",
       "        vertical-align: top;\n",
       "    }\n",
       "\n",
       "    .dataframe thead th {\n",
       "        text-align: right;\n",
       "    }\n",
       "</style>\n",
       "<table border=\"1\" class=\"dataframe\">\n",
       "  <thead>\n",
       "    <tr style=\"text-align: right;\">\n",
       "      <th></th>\n",
       "      <th>Date</th>\n",
       "      <th>Report</th>\n",
       "    </tr>\n",
       "  </thead>\n",
       "  <tbody>\n",
       "    <tr>\n",
       "      <th>0</th>\n",
       "      <td>2018-12-05</td>\n",
       "      <td>Acompaña presidente Andrés Manuel López Obrado...</td>\n",
       "    </tr>\n",
       "    <tr>\n",
       "      <th>1</th>\n",
       "      <td>2018-12-06</td>\n",
       "      <td>Revela presidente Andrés Manuel López Obrador ...</td>\n",
       "    </tr>\n",
       "    <tr>\n",
       "      <th>2</th>\n",
       "      <td>2018-12-07</td>\n",
       "      <td>En Tuxpan, presidente de México anuncia plan d...</td>\n",
       "    </tr>\n",
       "    <tr>\n",
       "      <th>3</th>\n",
       "      <td>2018-12-07</td>\n",
       "      <td>Destaca presidente avances en sistema de infor...</td>\n",
       "    </tr>\n",
       "    <tr>\n",
       "      <th>4</th>\n",
       "      <td>2018-12-07</td>\n",
       "      <td>En Acaponeta, presidente López Obrador anuncia...</td>\n",
       "    </tr>\n",
       "    <tr>\n",
       "      <th>...</th>\n",
       "      <td>...</td>\n",
       "      <td>...</td>\n",
       "    </tr>\n",
       "    <tr>\n",
       "      <th>2317</th>\n",
       "      <td>2023-04-12</td>\n",
       "      <td>Departamento de Justicia de Estados Unidos dev...</td>\n",
       "    </tr>\n",
       "    <tr>\n",
       "      <th>2318</th>\n",
       "      <td>2023-04-12</td>\n",
       "      <td>Países atenderán tráfico de drogas y control d...</td>\n",
       "    </tr>\n",
       "    <tr>\n",
       "      <th>2319</th>\n",
       "      <td>2023-04-13</td>\n",
       "      <td>Nuevo Laredo será sede de la Aduana Nacional, ...</td>\n",
       "    </tr>\n",
       "    <tr>\n",
       "      <th>2320</th>\n",
       "      <td>2023-04-13</td>\n",
       "      <td>Presidente recibe visita de Jeremy Corbyn en P...</td>\n",
       "    </tr>\n",
       "    <tr>\n",
       "      <th>2321</th>\n",
       "      <td>2023-04-14</td>\n",
       "      <td>Abasto de agua en zona conurbada de San Luis P...</td>\n",
       "    </tr>\n",
       "  </tbody>\n",
       "</table>\n",
       "<p>2322 rows × 2 columns</p>\n",
       "</div>"
      ],
      "text/plain": [
       "            Date                                             Report\n",
       "0     2018-12-05  Acompaña presidente Andrés Manuel López Obrado...\n",
       "1     2018-12-06  Revela presidente Andrés Manuel López Obrador ...\n",
       "2     2018-12-07  En Tuxpan, presidente de México anuncia plan d...\n",
       "3     2018-12-07  Destaca presidente avances en sistema de infor...\n",
       "4     2018-12-07  En Acaponeta, presidente López Obrador anuncia...\n",
       "...          ...                                                ...\n",
       "2317  2023-04-12  Departamento de Justicia de Estados Unidos dev...\n",
       "2318  2023-04-12  Países atenderán tráfico de drogas y control d...\n",
       "2319  2023-04-13  Nuevo Laredo será sede de la Aduana Nacional, ...\n",
       "2320  2023-04-13  Presidente recibe visita de Jeremy Corbyn en P...\n",
       "2321  2023-04-14  Abasto de agua en zona conurbada de San Luis P...\n",
       "\n",
       "[2322 rows x 2 columns]"
      ]
     },
     "execution_count": 33,
     "metadata": {},
     "output_type": "execute_result"
    }
   ],
   "source": [
    "bulletins = {\n",
    "    'Date' : dates,\n",
    "    'Report' : reports,\n",
    "}\n",
    "\n",
    "bulletins_df = pd.DataFrame(bulletins)\n",
    "bulletins_df"
   ]
  },
  {
   "cell_type": "code",
   "execution_count": 34,
   "metadata": {},
   "outputs": [],
   "source": [
    "# Save the DataFrame to a CSV file\n",
    "bulletins_df.to_csv('bulletins.csv', index=False)"
   ]
  }
 ],
 "metadata": {
  "kernelspec": {
   "display_name": "servicio",
   "language": "python",
   "name": "python3"
  },
  "language_info": {
   "codemirror_mode": {
    "name": "ipython",
    "version": 3
   },
   "file_extension": ".py",
   "mimetype": "text/x-python",
   "name": "python",
   "nbconvert_exporter": "python",
   "pygments_lexer": "ipython3",
   "version": "3.9.7"
  },
  "orig_nbformat": 4
 },
 "nbformat": 4,
 "nbformat_minor": 2
}
